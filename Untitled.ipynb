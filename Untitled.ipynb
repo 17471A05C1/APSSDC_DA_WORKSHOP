{
 "cells": [
  {
   "cell_type": "code",
   "execution_count": 1,
   "id": "ef29761c",
   "metadata": {},
   "outputs": [],
   "source": [
    "import numpy as np"
   ]
  },
  {
   "cell_type": "code",
   "execution_count": 2,
   "id": "f55b9fb8",
   "metadata": {},
   "outputs": [],
   "source": [
    "sec1=np.array(np.random.randint(10,20,[4,4]))"
   ]
  },
  {
   "cell_type": "code",
   "execution_count": 3,
   "id": "c0213037",
   "metadata": {},
   "outputs": [],
   "source": [
    "sec2=np.array(np.random.randint(10,20,[4,4]))"
   ]
  },
  {
   "cell_type": "code",
   "execution_count": 4,
   "id": "47098a68",
   "metadata": {},
   "outputs": [
    {
     "data": {
      "text/plain": [
       "53"
      ]
     },
     "execution_count": 4,
     "metadata": {},
     "output_type": "execute_result"
    }
   ],
   "source": [
    "sec1.trace()"
   ]
  },
  {
   "cell_type": "code",
   "execution_count": 6,
   "id": "f5080131",
   "metadata": {},
   "outputs": [
    {
     "data": {
      "text/plain": [
       "[array([[14, 16],\n",
       "        [17, 13],\n",
       "        [12, 12],\n",
       "        [17, 17]]),\n",
       " array([[17, 10],\n",
       "        [15, 10],\n",
       "        [13, 12],\n",
       "        [16, 13]])]"
      ]
     },
     "execution_count": 6,
     "metadata": {},
     "output_type": "execute_result"
    }
   ],
   "source": [
    "np.hsplit(sec1,2)"
   ]
  },
  {
   "cell_type": "code",
   "execution_count": 10,
   "id": "2277bad0",
   "metadata": {},
   "outputs": [
    {
     "data": {
      "text/plain": [
       "[array([[14, 16, 17, 10],\n",
       "        [17, 13, 15, 10]]),\n",
       " array([[12, 12, 13, 12]]),\n",
       " array([[17, 17, 16, 13]])]"
      ]
     },
     "execution_count": 10,
     "metadata": {},
     "output_type": "execute_result"
    }
   ],
   "source": [
    "np.vsplit(sec1,[2,3])"
   ]
  },
  {
   "cell_type": "code",
   "execution_count": 13,
   "id": "95e695de",
   "metadata": {},
   "outputs": [
    {
     "data": {
      "text/plain": [
       "100.25"
      ]
     },
     "execution_count": 13,
     "metadata": {},
     "output_type": "execute_result"
    }
   ],
   "source": [
    "np.abs(-100.25)"
   ]
  },
  {
   "cell_type": "markdown",
   "id": "be51ca4b",
   "metadata": {},
   "source": [
    "np.all(sec1>0"
   ]
  },
  {
   "cell_type": "code",
   "execution_count": 18,
   "id": "377f87f5",
   "metadata": {},
   "outputs": [
    {
     "data": {
      "text/plain": [
       "False"
      ]
     },
     "execution_count": 18,
     "metadata": {},
     "output_type": "execute_result"
    }
   ],
   "source": [
    "np.all(sec1>15)"
   ]
  },
  {
   "cell_type": "code",
   "execution_count": 17,
   "id": "62195671",
   "metadata": {},
   "outputs": [
    {
     "data": {
      "text/plain": [
       "False"
      ]
     },
     "execution_count": 17,
     "metadata": {},
     "output_type": "execute_result"
    }
   ],
   "source": [
    "np.any(sec1>115)"
   ]
  },
  {
   "cell_type": "code",
   "execution_count": 22,
   "id": "6cb6720a",
   "metadata": {},
   "outputs": [
    {
     "data": {
      "text/plain": [
       "12"
      ]
     },
     "execution_count": 22,
     "metadata": {},
     "output_type": "execute_result"
    }
   ],
   "source": [
    "np.round(12,99)"
   ]
  },
  {
   "cell_type": "code",
   "execution_count": 21,
   "id": "57790a28",
   "metadata": {},
   "outputs": [
    {
     "data": {
      "text/plain": [
       "19.0"
      ]
     },
     "execution_count": 21,
     "metadata": {},
     "output_type": "execute_result"
    }
   ],
   "source": [
    "np.floor(19.99)"
   ]
  },
  {
   "cell_type": "code",
   "execution_count": 24,
   "id": "9cb0376d",
   "metadata": {},
   "outputs": [
    {
     "data": {
      "text/plain": [
       "11.0"
      ]
     },
     "execution_count": 24,
     "metadata": {},
     "output_type": "execute_result"
    }
   ],
   "source": [
    "np.ceil(10.23)"
   ]
  },
  {
   "cell_type": "code",
   "execution_count": null,
   "id": "373f1143",
   "metadata": {},
   "outputs": [],
   "source": []
  }
 ],
 "metadata": {
  "kernelspec": {
   "display_name": "Python 3",
   "language": "python",
   "name": "python3"
  },
  "language_info": {
   "codemirror_mode": {
    "name": "ipython",
    "version": 3
   },
   "file_extension": ".py",
   "mimetype": "text/x-python",
   "name": "python",
   "nbconvert_exporter": "python",
   "pygments_lexer": "ipython3",
   "version": "3.8.8"
  }
 },
 "nbformat": 4,
 "nbformat_minor": 5
}
